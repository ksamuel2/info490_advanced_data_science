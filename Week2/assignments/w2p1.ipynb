{
 "cells": [
  {
   "cell_type": "markdown",
   "metadata": {
    "deletable": false,
    "nbgrader": {
     "checksum": "dba7d6748d9eb21d0f527ced81b30810",
     "grade": false,
     "grade_id": "header",
     "locked": true,
     "solution": false
    }
   },
   "source": [
    "This notebook will be collected automatically at **6pm on Monday** from `/home/data_scientist/assignment/Week2` directory on the course JupyterHub server. If you work on this assignment on the course Jupyterhub server, just make sure that you save your work and instructors will pull your notebooks automatically after the deadline. If you work on this assignment locally, the only way to submit assignments is via Jupyterhub, and you have to place the notebook file in the correct directory with the correct file name before the deadline.\n",
    "\n",
    "1. Make sure everything runs as expected. First, restart the kernel (in the menubar, select `Kernel` → `Restart`) and then run all cells (in the menubar, select `Cell` → `Run All`).\n",
    "2. Make sure you fill in any place that says `YOUR CODE HERE`. Do not write your answer in anywhere else other than where it says `YOUR CODE HERE`. Anything you write anywhere else will be removed by the autograder.\n",
    "3. Do not change the file path or the file name of this notebook.\n",
    "4. Make sure that you save your work (in the menubar, select `File` → `Save and CheckPoint`)"
   ]
  },
  {
   "cell_type": "markdown",
   "metadata": {},
   "source": [
    "# Problem 2.1. Multivariate Regression\n",
    "\n",
    "In this problem, we will first use seaborn to fit a linear regression model that predicts `Distance` from `AirTime`. Next, we will split the data set into a training set and a test. Then, we will use the training set to fit a multivariate regression model that predicts `Distance` from `AirTime` and `ArrDelay`. Finally, we will evaulate the performance of our model on the test set.\n",
    "\n",
    "This notebook (and problems 2.2 and 2.3) are quite long but primarily because of documentation and unit tests. The amount of code you actually have to write in terms of lines of code is not that much."
   ]
  },
  {
   "cell_type": "code",
   "execution_count": 1,
   "metadata": {
    "collapsed": false,
    "deletable": false,
    "nbgrader": {
     "checksum": "01e0ef5c64225f59fd7f3498fe584cfd",
     "grade": false,
     "grade_id": "import",
     "locked": true,
     "solution": false
    }
   },
   "outputs": [
    {
     "name": "stderr",
     "output_type": "stream",
     "text": [
      "/opt/conda/lib/python3.4/site-packages/matplotlib/__init__.py:872: UserWarning: axes.color_cycle is deprecated and replaced with axes.prop_cycle; please use the latter.\n",
      "  warnings.warn(self.msg_depr % (key, alt_key))\n",
      "/opt/conda/lib/python3.4/site-packages/matplotlib/__init__.py:872: UserWarning: axes.color_cycle is deprecated and replaced with axes.prop_cycle; please use the latter.\n",
      "  warnings.warn(self.msg_depr % (key, alt_key))\n"
     ]
    }
   ],
   "source": [
    "%matplotlib inline\n",
    "\n",
    "import numpy as np\n",
    "import pandas as pd\n",
    "import matplotlib as mpl\n",
    "import matplotlib.pyplot as plt\n",
    "import seaborn as sns\n",
    "\n",
    "from sklearn.cross_validation import train_test_split\n",
    "from sklearn.utils import check_random_state\n",
    "\n",
    "import statsmodels.api as sm\n",
    "import statsmodels.formula.api as smf\n",
    "\n",
    "from nose.tools import assert_equal, assert_is_not, assert_in\n",
    "from numpy.testing import assert_array_equal, assert_array_almost_equal\n",
    "from pandas.util.testing import assert_frame_equal\n",
    "\n",
    "sns.set(style=\"white\", font_scale=2.0)"
   ]
  },
  {
   "cell_type": "markdown",
   "metadata": {},
   "source": [
    "We will use the same [airline on-time performance data](http://stat-computing.org/dataexpo/2009/) from the previous semester. You can find the descriptions [here](http://stat-computing.org/dataexpo/2009/). For simplicity, we drop all missing values and limit our analysis to flights that departed from O'Hare."
   ]
  },
  {
   "cell_type": "code",
   "execution_count": 2,
   "metadata": {
    "collapsed": false,
    "deletable": false,
    "nbgrader": {
     "checksum": "0dee4e2e61738e5ae1d3dfcc2d88ed14",
     "grade": false,
     "grade_id": "read_csv",
     "locked": true,
     "solution": false
    }
   },
   "outputs": [],
   "source": [
    "filename = '/home/data_scientist/data/2001.csv'\n",
    "\n",
    "usecols = (13, 14, 16, 18)\n",
    "columns = ['AirTime', 'ArrDelay', 'Origin', 'Distance']\n",
    "\n",
    "all_data = pd.read_csv(filename, header=0, na_values=['NA'], usecols=usecols, names=columns)\n",
    "\n",
    "local = all_data.loc[all_data['Origin'] == 'ORD'].dropna()"
   ]
  },
  {
   "cell_type": "markdown",
   "metadata": {},
   "source": [
    "## Use Seaborn to plot a linear regression model\n",
    "\n",
    "Let's start by plotting a scatter plot of `AirTime` vs. `Distance` and fitting a linear regression model.\n",
    "\n",
    "- Use [seaborn.regplot](http://stanford.edu/~mwaskom/software/seaborn/generated/seaborn.regplot.html) to write a function named `plot_seaborn_reg()` that creates a scatter plot with `AirTime` in the $x$-axis and `Distance` in the $y$-axis. The function shuold also fit a linear regression model in the same plot. Note that the function should return an instance of [matplotlib Axes](http://matplotlib.org/users/artists.html) object."
   ]
  },
  {
   "cell_type": "code",
   "execution_count": 3,
   "metadata": {
    "collapsed": false,
    "deletable": false,
    "nbgrader": {
     "checksum": "30e427a0986e569617c594e6bc1a2a93",
     "grade": false,
     "grade_id": "plot_seaborn_reg_answer",
     "locked": false,
     "solution": true
    }
   },
   "outputs": [],
   "source": [
    "def plot_seaborn_reg(df):\n",
    "    '''\n",
    "    Uses Seaborn to create a scatter plot of \"AirTime\" vs \"Distance\" columns in \"df\".\n",
    "    Also fits a linear regression model in the same plot.\n",
    "    \n",
    "    Parameters\n",
    "    ----------\n",
    "    df: A pandas.DataFrame. Should have columns named \"AirTime\" and \"Distance\".\n",
    "    \n",
    "    Returns\n",
    "    -------\n",
    "    A matplotlib Axes object\n",
    "    '''\n",
    "    #####################\n",
    "    my_data = df[['AirTime', 'Distance']]\n",
    "    result = smf.ols(formula='Distance ~ AirTime', data=my_data).fit()\n",
    "    ax = sns.regplot('AirTime', 'Distance', df, fit_reg=True)\n",
    "    ax.set(xlabel='Air time (min)', ylabel='Distance (miles)', title='Seaborn linear regression')\n",
    "    #####################\n",
    "\n",
    "    return ax"
   ]
  },
  {
   "cell_type": "markdown",
   "metadata": {},
   "source": [
    "Execute the following code cell to display the plot. Here's an example plot:\n",
    "\n",
    "![](images/seaborn_regplot.png)\n",
    "\n",
    "As we can see, a straight line of course fits the data pretty well, as we expect the distance travelled to be linearly proportional to the airtime."
   ]
  },
  {
   "cell_type": "code",
   "execution_count": 4,
   "metadata": {
    "collapsed": false,
    "deletable": false,
    "nbgrader": {
     "checksum": "fd810608d24850fadca4c4ece82e2a7f",
     "grade": false,
     "grade_id": "ax1",
     "locked": true,
     "solution": false
    }
   },
   "outputs": [
    {
     "data": {
      "image/png": "[encoded data removed]",
      "text/plain": [
       "<matplotlib.figure.Figure at 0x7fbfa41808d0>"
      ]
     },
     "metadata": {},
     "output_type": "display_data"
    }
   ],
   "source": [
    "ax1 = plot_seaborn_reg(local)"
   ]
  },
  {
   "cell_type": "markdown",
   "metadata": {},
   "source": [
    "In the following code cell, you will see some assert statements, and almost every assignment will have such tests. If you didn't take the Fall 2015 version of our course, these are what are called [unit tests](https://en.wikipedia.org/wiki/Unit_testing). When you submit completed assignments, instructors will determine your assignment grades by using automated grading tools to perform unit testing on your code, so if you pass all the tests without an error, you get a perfect score.\n",
    "\n",
    "Writing the tests first, and *then* writing the actual code is actually a perfectly valid approach (preferred by many) to programming. It's called [test-driven development](https://en.wikipedia.org/wiki/Test-driven_development). So, you should learn what [assert](https://wiki.python.org/moin/UsingAssertionsEffectively) means in Python, and study [nose](http://nose.readthedocs.org/en/latest/testing.html). We will also use [Numpy testing tools](http://docs.scipy.org/doc/numpy/reference/routines.testing.html) to test arrays and [Pandas testing](http://pandas.pydata.org/developers.html#testing) to test pandas.Series and DataFrame objects.\n",
    "\n",
    "Since we are mainly dealing with visualization problems here, the test cases are more complicated than usual. If you are not familiar with unit tests and want to get a feel for how unit tests work, I suggest you start with [Problem 2.3](w2p3.ipynb). I think the tests in that problem are more intuitive."
   ]
  },
  {
   "cell_type": "code",
   "execution_count": 5,
   "metadata": {
    "collapsed": false,
    "deletable": false,
    "nbgrader": {
     "checksum": "afa7c0e908b58ee8f3cd1dd3da94c361",
     "grade": true,
     "grade_id": "plot_seaborn_reg_test",
     "locked": true,
     "points": 10,
     "solution": false
    }
   },
   "outputs": [],
   "source": [
    "assert_equal(isinstance(ax1, mpl.axes.Axes), True, msg=\"Your function should return a matplotlib.axes.Axes object.\")\n",
    "\n",
    "assert_equal(len(ax1.lines), 1)\n",
    "assert_equal(len(ax1.collections), 2, msg=\"Your plot doesn't have a regression line.\")\n",
    "\n",
    "assert_is_not(len(ax1.title.get_text()), 0, msg=\"Your plot doesn't have a title.\")\n",
    "assert_is_not(ax1.xaxis.get_label_text(), \"AirTime\", msg=\"Change the x-axis label to something more descriptive.\")\n",
    "assert_is_not(ax1.yaxis.get_label_text(), \"Distance\", msg=\"Change the y-axis label to something more descriptive.\")\n",
    "    \n",
    "x, y = ax1.collections[0].get_offsets().T\n",
    "assert_array_equal(x, local[\"AirTime\"])\n",
    "assert_array_equal(y, local[\"Distance\"])"
   ]
  },
  {
   "cell_type": "markdown",
   "metadata": {},
   "source": [
    "## Split a DataFrame into a testing and a test set\n",
    "\n",
    "Now, we will include another predictor variable `ArrDelay` in the regression model in addition to `AirTime`. At the same time, we will split our data set into a training set and a test. We will use only the training set to learn a multivariate regresion model, predict `Distance` in the test set, and compare the predictions with the truth values in the test set.\n",
    "\n",
    "\n",
    "For reproducibility, we have to pass an instance of [check_random_state()](http://scikit-learn.org/stable/modules/generated/sklearn.utils.check_random_state.html) to the `train_test_split()` function."
   ]
  },
  {
   "cell_type": "code",
   "execution_count": 6,
   "metadata": {
    "collapsed": true,
    "deletable": false,
    "nbgrader": {
     "checksum": "8da2501a606493dbfdebdfec0d6fc43b",
     "grade": false,
     "grade_id": "get_train_test_answer",
     "locked": false,
     "solution": true
    }
   },
   "outputs": [],
   "source": [
    "def get_train_test(df, train_columns, test_columns, test_size, random_state):\n",
    "    '''\n",
    "    Uses sklearn.train_test_split to split \"df\" into a testing set and a test set.\n",
    "    The \"train_columns\" parameter lists the attributes that will be used for training.\n",
    "    The \"test_columns\" lists the column that we are trying to predict.\n",
    "    The \"test_size\" should be between 0.0 and 1.0 and represents the proportion of the\n",
    "    dataset to include in the test split.\n",
    "    The \"random_state\" parameter is used in sklearn.train_test.split.\n",
    "    \n",
    "    Parameters\n",
    "    ----------\n",
    "    train_columns: A list of strings\n",
    "    test_columns: A list of strings\n",
    "    test_size: A float\n",
    "    random_state: A numpy.random.RandomState instance\n",
    "    \n",
    "    Returns\n",
    "    -------\n",
    "    A 4-tuple of pandas.DataFrames\n",
    "    '''\n",
    "    #####################\n",
    "    X = df[train_columns]\n",
    "    y = df[test_columns]\n",
    "    X_train, X_test, y_train, y_test = train_test_split(X, y, test_size=test_size, random_state=random_state)\n",
    "    #####################\n",
    "\n",
    "    return X_train, X_test, y_train, y_test"
   ]
  },
  {
   "cell_type": "markdown",
   "metadata": {},
   "source": [
    "We use 80% of data for training and 20% for testing. We also seed the random number generator with number 0. Without the seed, the testing and test sets will be different every time you run the function."
   ]
  },
  {
   "cell_type": "code",
   "execution_count": 7,
   "metadata": {
    "collapsed": true,
    "deletable": false,
    "nbgrader": {
     "checksum": "eaaf88a1e99a52ce5792d1e1f7589b51",
     "grade": false,
     "grade_id": "run_get_train_run",
     "locked": true,
     "solution": false
    }
   },
   "outputs": [],
   "source": [
    "X_train, X_test, y_train, y_test = get_train_test(\n",
    "    df=local,\n",
    "    train_columns=['AirTime', 'ArrDelay'],\n",
    "    test_columns=['Distance'],\n",
    "    test_size=0.2,\n",
    "    random_state=check_random_state(0)\n",
    ")"
   ]
  },
  {
   "cell_type": "markdown",
   "metadata": {},
   "source": [
    "Make sure that your function passes the following tests. By seeding the random number generator with `check_random_state()`, our function becomes deterministic, so the following unit tests compare your answers with mine."
   ]
  },
  {
   "cell_type": "code",
   "execution_count": 8,
   "metadata": {
    "collapsed": false,
    "deletable": false,
    "nbgrader": {
     "checksum": "24bf7a4ede22b7262b89b953b1c6ce5a",
     "grade": true,
     "grade_id": "run_get_train_test",
     "locked": true,
     "points": 5,
     "solution": false
    }
   },
   "outputs": [],
   "source": [
    "assert_equal(len(X_train), np.round(len(local) * 0.8))\n",
    "assert_frame_equal(\n",
    "    X_train.iloc[:5, :],\n",
    "    pd.DataFrame(\n",
    "        index=[455345,  912717, 2456409, 1431043,  721122],\n",
    "        data={'AirTime': [ 125., 44., 98., 225., 247.], 'ArrDelay': [56., -24., 31., -9., -2.]}\n",
    "    )\n",
    ")\n",
    "\n",
    "assert_equal(len(X_test), np.round(len(local) * 0.2))\n",
    "assert_frame_equal(\n",
    "    X_test.iloc[:5, :],\n",
    "    pd.DataFrame(\n",
    "        index=[3639407, 1220091, 2772255, 5715261, 1979336],\n",
    "        data={'AirTime': [98., 224., 231., 230., 81.], 'ArrDelay': [ 14., -22.,  -8.,   0.,   7.]}\n",
    "    )\n",
    ")\n",
    "\n",
    "assert_equal(len(y_train), np.round(len(local) * 0.8))\n",
    "assert_frame_equal(\n",
    "    y_train.iloc[:5, :],\n",
    "    pd.DataFrame(\n",
    "        index=[455345, 912717, 2456409, 1431043, 721122],\n",
    "        data={'Distance': [ 802,  235,  733, 1745, 1721]}\n",
    "    )\n",
    ")\n",
    "\n",
    "assert_equal(len(y_test), np.round(len(local) * 0.2))\n",
    "assert_frame_equal(\n",
    "    y_test.iloc[:5, :],\n",
    "    pd.DataFrame(\n",
    "        index=[3639407, 1220091, 2772255, 5715261, 1979336],\n",
    "        data={'Distance': [606, 1781, 1846, 1721, 594]}\n",
    "    )\n",
    ")"
   ]
  },
  {
   "cell_type": "markdown",
   "metadata": {},
   "source": [
    "## Multiple independent variables\n",
    "\n",
    "Now, we will include `ArrDelay` in addition to `AirTime` to predict `Distance`. In other words, we now have two independent variables `AirTime` and `ArrDelay`, and the dependent variable is `Distance`.\n",
    "\n",
    "- Write a function named `get_statsmodels_reg()` that uses patsy formula in statsmodels on `AirTime`, `ArrDelay`, and `Distance`."
   ]
  },
  {
   "cell_type": "code",
   "execution_count": 9,
   "metadata": {
    "collapsed": true,
    "deletable": false,
    "nbgrader": {
     "checksum": "0a7c8340d8846cc2a4142aa73561726d",
     "grade": false,
     "grade_id": "get_statsmodels_reg_answer",
     "locked": false,
     "points": 10,
     "solution": true
    }
   },
   "outputs": [],
   "source": [
    "def get_statsmodels_reg(df_fit, X_predict):\n",
    "    '''\n",
    "    Trains OLS on the columns in \"df_fit\" and makes a prediction for \"X_predict\".\n",
    "    Returns the predicted `DepDelay` values.\n",
    "    \n",
    "    Parameters\n",
    "    ----------\n",
    "    df_fit: A pandas.DataFrame. Should have \"AirTime\", \"ArrDelay\", and \"Distance\" columns.\n",
    "    X_predict: A pandas.DataFrame. Should have \"AirTime\" and \"ArrDelay\" columns.\n",
    "    \n",
    "    Returns\n",
    "    -------\n",
    "    A numpy array\n",
    "    '''\n",
    "    #####################\n",
    "    result = smf.ols(formula='Distance ~ AirTime + ArrDelay', data=df_fit).fit()\n",
    "    y_predict = result.predict(X_predict)\n",
    "    #####################\n",
    "\n",
    "    return y_predict"
   ]
  },
  {
   "cell_type": "markdown",
   "metadata": {},
   "source": [
    "`get_statsmodels_reg()` accepts a DataFrame with three columns, but two of the columns are in `X_train` while the remaning one is in `y_train`. So we combine the columns to create a new DataFrame that we will use for the `df_fit` parameter. We will also make predictions on 10 points equally spaced from the minimum and the maximum of each variable."
   ]
  },
  {
   "cell_type": "code",
   "execution_count": 10,
   "metadata": {
    "collapsed": false,
    "deletable": false,
    "nbgrader": {
     "checksum": "abf7513c1462317fdf8d0d68f99300b9",
     "grade": false,
     "grade_id": "get_statsmodels_reg_run",
     "locked": true,
     "solution": false
    }
   },
   "outputs": [],
   "source": [
    "df_train = pd.DataFrame({\n",
    "    \"AirTime\": X_train[\"AirTime\"].values,\n",
    "    \"ArrDelay\": X_train[\"ArrDelay\"].values,\n",
    "    \"Distance\": y_train[\"Distance\"].values})\n",
    "\n",
    "X_pred = pd.DataFrame({\n",
    "    'AirTime': np.linspace(X_test['AirTime'].min(), X_test['AirTime'].max(), 10),\n",
    "    'ArrDelay': np.linspace(X_test['ArrDelay'].min(), X_test['ArrDelay'].max(), 10)\n",
    "    })\n",
    "\n",
    "y_pred = get_statsmodels_reg(df_train, X_pred)"
   ]
  },
  {
   "cell_type": "markdown",
   "metadata": {},
   "source": [
    "The following test compares the predicted values to the values I got. Since statsmodels.ols is deterministic, your answer should be the same as mine."
   ]
  },
  {
   "cell_type": "code",
   "execution_count": 11,
   "metadata": {
    "collapsed": false,
    "deletable": false,
    "nbgrader": {
     "checksum": "56953104c345472078ea719cf1938f81",
     "grade": true,
     "grade_id": "get_statsmodels_reg_test",
     "locked": true,
     "points": 5,
     "solution": false
    }
   },
   "outputs": [],
   "source": [
    "assert_array_almost_equal(\n",
    "    y_pred,\n",
    "    np.array([  -10.24755291,   432.77802136,   875.80359563,  1318.8291699 ,\n",
    "        1761.85474417,  2204.88031843,  2647.9058927 ,  3090.93146697,\n",
    "        3533.95704124,  3976.9826155 ])\n",
    "    )"
   ]
  },
  {
   "cell_type": "markdown",
   "metadata": {},
   "source": [
    "## Plot the multivariate regression model\n",
    "\n",
    "Finally, plot the model we learned with `get_statsmodels_reg()`. Your plot should have both a scatter plot of `Distance` vs. `AirTime` and a line that represents the multivariate regression model.\n",
    "\n",
    "Note that the `plot_statsmodels_reg()` returns a `matplotlib.Axes` object."
   ]
  },
  {
   "cell_type": "code",
   "execution_count": 12,
   "metadata": {
    "collapsed": false,
    "deletable": false,
    "nbgrader": {
     "checksum": "0afc9c363fad08c0003ae0578f2fc087",
     "grade": false,
     "grade_id": "plot_statsmodels_reg_answer",
     "locked": false,
     "solution": true
    }
   },
   "outputs": [],
   "source": [
    "def plot_statsmodels_reg(df_test, df_pred):\n",
    "    '''\n",
    "    Plots the follwoing:\n",
    "    1. A scatter plot of the \"AirTime\" column of \"df_test\" on the x-axis\n",
    "       and the \"Distance\" column of \"df_test\" on the y-axis,\n",
    "    2. A straight line (multivariate linear regression model) of the\n",
    "       \"AirTime\" column of \"df_pred\" on the x-axis and the \"Distance\"\n",
    "       column of \"df_pred\" on the y-axis.\n",
    "              \n",
    "    Parameters\n",
    "    ----------\n",
    "    df_test: A pandas.DataFrame\n",
    "    df_pred: A pandas.DataFrame\n",
    "    \n",
    "    Returns\n",
    "    -------\n",
    "    A matplotlib.Axes object\n",
    "    '''\n",
    "    #####################\n",
    "    ax = sns.regplot('AirTime', 'Distance', df_test, fit_reg=False)\n",
    "    ax.set(title='statsmodels regression',\n",
    "       xlabel='Air time (minites)', xlim=(-100, 600),\n",
    "       ylabel='Distance (miles)', ylim=(-1000, 5000))\n",
    "    plt.plot(df_pred['AirTime'], df_pred['Distance'], c='r')\n",
    "    #####################\n",
    "\n",
    "    return ax"
   ]
  },
  {
   "cell_type": "markdown",
   "metadata": {},
   "source": [
    "Here's an example plot. The blue points are points in the test data, and the red line is the regression model predicted by statsmodels.\n",
    "\n",
    "![](images/statsmodels_ols.png)"
   ]
  },
  {
   "cell_type": "code",
   "execution_count": 13,
   "metadata": {
    "collapsed": false,
    "deletable": false,
    "nbgrader": {
     "checksum": "9622e66cdfdb5f13b8957eec355fc995",
     "grade": false,
     "grade_id": "plot_statsmodels_reg_run",
     "locked": true,
     "solution": false
    }
   },
   "outputs": [
    {
     "data": {
      "image/png": "[encoded data removed]",
      "text/plain": [
       "<matplotlib.figure.Figure at 0x7fbf5b59ff60>"
      ]
     },
     "metadata": {},
     "output_type": "display_data"
    }
   ],
   "source": [
    "df_test = pd.DataFrame({\n",
    "    'AirTime': X_test['AirTime'].values,\n",
    "    'Distance': y_test['Distance'].values\n",
    "    })\n",
    "\n",
    "df_pred = pd.DataFrame({\n",
    "    'AirTime': X_pred['AirTime'].values,\n",
    "    'Distance': y_pred\n",
    "    })\n",
    "\n",
    "ax2 = plot_statsmodels_reg(df_test, df_pred)"
   ]
  },
  {
   "cell_type": "markdown",
   "metadata": {},
   "source": [
    "Make sure that your function passes the following tests."
   ]
  },
  {
   "cell_type": "code",
   "execution_count": 15,
   "metadata": {
    "collapsed": false,
    "deletable": false,
    "nbgrader": {
     "checksum": "f1aeda64fed828e14617450d66293a45",
     "grade": true,
     "grade_id": "plot_statmodels_reg_test",
     "locked": true,
     "points": 10,
     "solution": false
    }
   },
   "outputs": [],
   "source": [
    "assert_equal(isinstance(ax2, mpl.axes.Axes), True, msg=\"Your function should return a matplotlib.axes.Axes object.\")\n",
    "\n",
    "assert_equal(len(ax2.lines), 1)\n",
    "assert_equal(len(ax2.collections), 1, msg=\"You should turn off Seaborn regression.\")\n",
    "\n",
    "assert_is_not(len(ax2.title.get_text()), 0, msg=\"Your plot doesn't have a title.\")\n",
    "assert_is_not(ax2.xaxis.get_label_text(), \"AirTime\", msg=\"Change the x-axis label to something more descriptive.\")\n",
    "assert_is_not(ax2.yaxis.get_label_text(), \"Distance\", msg=\"Change the y-axis label to something more descriptive.\")\n",
    "    \n",
    "x_scatter, y_scatter = ax2.collections[0].get_offsets().T\n",
    "assert_array_equal(x_scatter, df_test[\"AirTime\"])\n",
    "assert_array_equal(y_scatter, df_test[\"Distance\"])\n",
    "\n",
    "line = ax2.get_lines()[0]\n",
    "x_line = line.get_xdata()\n",
    "y_line = line.get_ydata()\n",
    "assert_array_equal(x_line, df_pred[\"AirTime\"])\n",
    "assert_array_almost_equal(y_line, y_pred)"
   ]
  },
  {
   "cell_type": "code",
   "execution_count": null,
   "metadata": {
    "collapsed": true
   },
   "outputs": [],
   "source": []
  }
 ],
 "metadata": {
  "kernelspec": {
   "display_name": "Python 3",
   "language": "python",
   "name": "python3"
  },
  "language_info": {
   "codemirror_mode": {
    "name": "ipython",
    "version": 3
   },
   "file_extension": ".py",
   "mimetype": "text/x-python",
   "name": "python",
   "nbconvert_exporter": "python",
   "pygments_lexer": "ipython3",
   "version": "3.4.4"
  }
 },
 "nbformat": 4,
 "nbformat_minor": 0
}
