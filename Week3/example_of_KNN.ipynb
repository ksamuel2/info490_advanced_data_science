{
 "cells": [
  {
   "cell_type": "code",
   "execution_count": 3,
   "metadata": {
    "collapsed": false
   },
   "outputs": [
    {
     "data": {
      "image/png": "[encoded data removed]",
      "text/plain": [
       "<matplotlib.figure.Figure at 0x7f2c52546890>"
      ]
     },
     "metadata": {},
     "output_type": "display_data"
    }
   ],
   "source": [
    "%matplotlib inline\n",
    "\n",
    "import numpy as np\n",
    "import pandas as pd\n",
    "import pylab as pl\n",
    "from sklearn.neighbors import KNeighborsClassifier\n",
    "\n",
    "\n",
    "data = []\n",
    "for i in range(0, 100):\n",
    "    for j in range(0, 100):\n",
    "        data.append([i, j])\n",
    "\n",
    "df = pd.DataFrame(data, columns=['x', 'y'])\n",
    "df['color'] = 'yellow'\n",
    "\n",
    "# left eye\n",
    "idx = ((df['x'] - 30)**2 + (df['y'] - 80)**2 <= 100)\n",
    "df['color'] = np.where(idx, 'black', 'yellow')\n",
    "\n",
    "# right eye\n",
    "idx = ((df['x'] - 70)**2 + (df['y'] - 80)**2 <= 100)\n",
    "df['color'] = np.where(df['color']!='black', np.where(idx, 'black', 'yellow'), df['color'])\n",
    "\n",
    "# smile\n",
    "idx = ((df['x'] - 50)**2 + (df['y'] - 40)**2 <= 1000)\n",
    "idx = idx & (df['y'] < 40)\n",
    "\n",
    "df['color'] = np.where(df['color']!='black', np.where(idx, 'black', 'yellow'), df['color'])\n",
    "\n",
    "for color in ['yellow', 'black']:\n",
    "#     print color\n",
    "#     print len(df[df.color==color])\n",
    "    pl.scatter(df[df.color==color].x, df[df.color==color].y, c=color, marker=',', edgecolors='none')\n",
    "\n",
    "pl.show()"
   ]
  },
  {
   "cell_type": "code",
   "execution_count": 34,
   "metadata": {
    "collapsed": false
   },
   "outputs": [],
   "source": [
    "import random\n",
    "\n",
    "num_of_pixels = df.shape[0]\n",
    "\n",
    "arr = range(num_of_pixels)\n",
    "\n",
    "random.shuffle(arr)\n",
    "arr = arr[:(num_of_pixels / 2)]"
   ]
  },
  {
   "cell_type": "code",
   "execution_count": 43,
   "metadata": {
    "collapsed": false
   },
   "outputs": [],
   "source": [
    "train = df.iloc[arr]\n",
    "test = df.copy()"
   ]
  },
  {
   "cell_type": "code",
   "execution_count": 44,
   "metadata": {
    "collapsed": false
   },
   "outputs": [
    {
     "data": {
      "image/png": "[encoded data removed]",
      "text/plain": [
       "<matplotlib.figure.Figure at 0x7f2c523f7450>"
      ]
     },
     "metadata": {},
     "output_type": "display_data"
    }
   ],
   "source": [
    "clf = KNeighborsClassifier(n_neighbors=13)\n",
    "clf.fit(train[['x', 'y']], np.where(train['color']=='black', 1, 0))\n",
    "\n",
    "preds = clf.predict(test[['x', 'y']])\n",
    "test.color = np.where(preds==1, 'black', 'yellow')\n",
    "\n",
    "for color in ['yellow', 'black']:\n",
    "    pl.scatter(train[train.color==color].x, train[train.color==color].y,\n",
    "            c=color, marker=',', edgecolors='none')\n",
    "\n",
    "for color in ['yellow', 'black']:\n",
    "    pl.scatter(test[test.color==color].x, test[test.color==color].y,\n",
    "            c=color, marker=',', edgecolors='none')\n",
    "\n",
    "pl.show()"
   ]
  },
  {
   "cell_type": "code",
   "execution_count": null,
   "metadata": {
    "collapsed": true
   },
   "outputs": [],
   "source": []
  }
 ],
 "metadata": {
  "kernelspec": {
   "display_name": "Python 2",
   "language": "python",
   "name": "python2"
  },
  "language_info": {
   "codemirror_mode": {
    "name": "ipython",
    "version": 2
   },
   "file_extension": ".py",
   "mimetype": "text/x-python",
   "name": "python",
   "nbconvert_exporter": "python",
   "pygments_lexer": "ipython2",
   "version": "2.7.11"
  }
 },
 "nbformat": 4,
 "nbformat_minor": 0
}
