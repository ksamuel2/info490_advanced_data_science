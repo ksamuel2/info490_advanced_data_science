{
 "cells": [
  {
   "cell_type": "markdown",
   "metadata": {
    "deletable": false,
    "nbgrader": {
     "checksum": "bdf34c08fcd3b0fa3425ae7552aaad70",
     "grade": false,
     "grade_id": "header",
     "locked": true,
     "solution": false
    }
   },
   "source": [
    "This notebook will be collected automatically at **6pm on Monday** from `/home/data_scientist/assignments/Week10` directory on the course JupyterHub server. If you work on this assignment on the course Jupyterhub server, just make sure that you save your work and instructors will pull your notebooks automatically after the deadline. If you work on this assignment locally, the only way to submit assignments is via Jupyterhub, and you have to place the notebook file in the correct directory with the correct file name before the deadline.\n",
    "\n",
    "1. Make sure everything runs as expected. First, restart the kernel (in the menubar, select `Kernel` → `Restart`) and then run all cells (in the menubar, select `Cell` → `Run All`).\n",
    "2. Make sure you fill in any place that says `YOUR CODE HERE`. Do not write your answer in anywhere else other than where it says `YOUR CODE HERE`. Anything you write anywhere else will be removed by the autograder.\n",
    "3. Do not change the file path or the file name of this notebook.\n",
    "4. Make sure that you save your work (in the menubar, select `File` → `Save and CheckPoint`)"
   ]
  },
  {
   "cell_type": "markdown",
   "metadata": {
    "deletable": false,
    "nbgrader": {
     "checksum": "6492f209ea8e88a89dde1613eb068338",
     "grade": false,
     "grade_id": "title",
     "locked": true,
     "solution": false
    }
   },
   "source": [
    "# Problem 10.3. Social Media."
   ]
  },
  {
   "cell_type": "code",
   "execution_count": 1,
   "metadata": {
    "collapsed": true,
    "deletable": false,
    "nbgrader": {
     "checksum": "1244b1fd066fbeaa9266ece9d5994fd8",
     "grade": false,
     "grade_id": "import",
     "locked": true,
     "solution": false
    }
   },
   "outputs": [],
   "source": [
    "%matplotlib inline\n",
    "import json\n",
    "import networkx as nx\n",
    "import matplotlib as mpl\n",
    "import matplotlib.pyplot as plt\n",
    "import seaborn as sns\n",
    "\n",
    "from nose.tools import assert_equal, assert_is_instance, assert_true, assert_false\n",
    "from numpy.testing import assert_array_equal, assert_array_almost_equal"
   ]
  },
  {
   "cell_type": "markdown",
   "metadata": {
    "deletable": false,
    "nbgrader": {
     "checksum": "6e1ed204ce9e8fadc44834144ccff166",
     "grade": false,
     "grade_id": "markdown_1",
     "locked": true,
     "solution": false
    }
   },
   "source": [
    "In this problem, we will construct a graph of the friends of Kevin Bacon's friends, because no study of social networks is complete without studying the [Six Degrees of Kevin Bacon](https://en.wikipedia.org/wiki/Six_Degrees_of_Kevin_Bacon). Kevin Bacon (Twitter handle: `kevinbacon`, ID number: 348785149) has 203 Twitter friends as of March 27, 2016. Looking up friends of all 203 friends will take a long time due to Twitter's [rate limit](https://dev.twitter.com/rest/public/rate-limiting), so I let the following script run overnight and saved the results in a JSON file."
   ]
  },
  {
   "cell_type": "markdown",
   "metadata": {
    "collapsed": false,
    "deletable": false,
    "nbgrader": {
     "checksum": "611b653fa0ac216a19bd94069cbe33be",
     "grade": false,
     "grade_id": "markdown_2",
     "locked": true,
     "solution": false
    }
   },
   "source": [
    "```python\n",
    "import os\n",
    "import tweepy as tw\n",
    "from time import sleep\n",
    "\n",
    "# Order: Access Token, Access Token Secret, \n",
    "# Consumer Key, Consumer SecretAccess\n",
    "cred_file = '/home/data_scientist/Week8/notebooks/twitter.cred'\n",
    "\n",
    "tokens = []\n",
    "\n",
    "with open(cred_file, 'r') as fin:\n",
    "    for line in fin:\n",
    "        if line[0] != '#': # Not a comment line\n",
    "            tokens.append(line.rstrip('\\n'))\n",
    "\n",
    "auth = tw.OAuthHandler(tokens[2], tokens[3])\n",
    "auth.set_access_token(tokens[0], tokens[1])\n",
    "\n",
    "api = tw.API(auth, wait_on_rate_limit=True, wait_on_rate_limit_notify=True)\n",
    "\n",
    "user_name = 'kevinbacon'\n",
    "\n",
    "# We will save data as JSON, but JSON requries dictionary keys to be strings,\n",
    "# so we will convert the IDs to strings.\n",
    "user_id = str(api.get_user(user_name).id)\n",
    "\n",
    "if os.path.exists('ids2ids.json'):\n",
    "    with open('ids2ids.json') as f:\n",
    "        ids2ids = json.load(f)\n",
    "else:\n",
    "    ids2ids = {user_id: [str(f) for f in api.friends_ids(id=user_id)]}\n",
    "\n",
    "\n",
    "for friend in tw.Cursor(api.friends, id=user_id).items():\n",
    "    \n",
    "    screen_name = friend.screen_name\n",
    "    \n",
    "    # friend_id will be the keys, which must be strings.\n",
    "    friend_id = str(friend.id)\n",
    "\n",
    "    if friend_id in ids2ids:\n",
    "        print('{0} alraedy exists.'.format(screen_name))\n",
    "        continue\n",
    "\n",
    "    print('Finding friends for {0}'.format(screen_name))\n",
    "    \n",
    "    try:\n",
    "        fof = api.friends_ids(id=friend_id)\n",
    "    except tw.error.TweepError:\n",
    "        fof = []\n",
    "\n",
    "    ids2ids[friend_id] = [str(f) for f in fof]\n",
    "    \n",
    "    print('Found {0} friends.'.format(len(ids2ids[friend_id])))\n",
    "\n",
    "    with open('ids2ids.json', 'w') as f:\n",
    "        json.dump(ids2ids, f)\n",
    "\n",
    "    sleep(60) # necessary due to the rate limit\n",
    "```"
   ]
  },
  {
   "cell_type": "markdown",
   "metadata": {
    "deletable": false,
    "nbgrader": {
     "checksum": "0bfc9a1984159e027820617f6607818e",
     "grade": false,
     "grade_id": "markdown_3",
     "locked": true,
     "solution": false
    }
   },
   "source": [
    "Start by loading the JSON file."
   ]
  },
  {
   "cell_type": "code",
   "execution_count": 2,
   "metadata": {
    "collapsed": false,
    "deletable": false,
    "nbgrader": {
     "checksum": "f2fcaf064add020944abbceeb604deda",
     "grade": false,
     "grade_id": "json_load",
     "locked": true,
     "solution": false
    }
   },
   "outputs": [],
   "source": [
    "with open('/home/data_scientist/data/misc/ids2ids.json') as f:\n",
    "    ids2ids = json.load(f)"
   ]
  },
  {
   "cell_type": "markdown",
   "metadata": {
    "deletable": false,
    "nbgrader": {
     "checksum": "def3d171b637327ec3b013bef422902a",
     "grade": false,
     "grade_id": "markdown_4",
     "locked": true,
     "solution": false
    }
   },
   "source": [
    "The dictionary also has Kevin Bacon's freinds."
   ]
  },
  {
   "cell_type": "code",
   "execution_count": 3,
   "metadata": {
    "collapsed": false,
    "deletable": false,
    "nbgrader": {
     "checksum": "d6d897701315bb87a64cdad856c4bc3e",
     "grade": false,
     "grade_id": "bacon_in_ids2ids",
     "locked": true,
     "solution": false
    }
   },
   "outputs": [],
   "source": [
    "assert_true('348785149' in ids2ids)"
   ]
  },
  {
   "cell_type": "markdown",
   "metadata": {
    "deletable": false,
    "nbgrader": {
     "checksum": "afde21f00fd3b2fb90ae4624544effb8",
     "grade": false,
     "grade_id": "markdown_5",
     "locked": true,
     "solution": false
    }
   },
   "source": [
    "As mentioned previously, Kevin Bacon has 203 friends, so we should have 204 keys (203 friends plus Kevin Bacon himself)."
   ]
  },
  {
   "cell_type": "code",
   "execution_count": 4,
   "metadata": {
    "collapsed": false,
    "deletable": false,
    "nbgrader": {
     "checksum": "aab09602788275e4659278a1843aa6b5",
     "grade": false,
     "grade_id": "len_ids2ids",
     "locked": true,
     "solution": false
    }
   },
   "outputs": [],
   "source": [
    "assert_equal(len(ids2ids), 204)"
   ]
  },
  {
   "cell_type": "markdown",
   "metadata": {
    "deletable": false,
    "nbgrader": {
     "checksum": "007bd77781bbb02cd718748877092329",
     "grade": false,
     "grade_id": "markdown_6",
     "locked": true,
     "solution": false
    }
   },
   "source": [
    "Note that both keys and values are strings."
   ]
  },
  {
   "cell_type": "code",
   "execution_count": 5,
   "metadata": {
    "collapsed": false,
    "deletable": false,
    "nbgrader": {
     "checksum": "602ad0e644fb532d00c48b4a50498251",
     "grade": false,
     "grade_id": "assert_strings",
     "locked": true,
     "solution": false
    }
   },
   "outputs": [],
   "source": [
    "assert_true(all(type(key) is str for key in ids2ids))\n",
    "assert_true(all(type(value) is str for key in ids2ids for value in ids2ids[key]))"
   ]
  },
  {
   "cell_type": "markdown",
   "metadata": {
    "deletable": false,
    "nbgrader": {
     "checksum": "6cbe7189206280a2cd989bda6f256f47",
     "grade": false,
     "grade_id": "markdown_7",
     "locked": true,
     "solution": false
    }
   },
   "source": [
    "## Graph\n",
    "\n",
    "- Create a directed graph, and add a node for the initial user (`'348785149'`).\n",
    "- Next, step through the IDs of the user's friends.\n",
    "- Inside this loop, step through the friend of friend ids for the current friend to identify any associations back to the original list of friends.\n",
    "- If a match is found, add an edge to the graph as appropriate."
   ]
  },
  {
   "cell_type": "code",
   "execution_count": 30,
   "metadata": {
    "collapsed": false,
    "deletable": false,
    "nbgrader": {
     "checksum": "aeb0d6279849321a1a42adaee8b703aa",
     "grade": false,
     "grade_id": "create_digraph_answer",
     "locked": false,
     "solution": true
    }
   },
   "outputs": [],
   "source": [
    "def create_digraph(ids2ids, start_node='348785149'):\n",
    "    '''\n",
    "    Creates a graph of friends of friends for the initial user 'start_node'.\n",
    "    \n",
    "    Paramters\n",
    "    ---------\n",
    "    ids2ids: A dictionary.\n",
    "    \n",
    "    Returns\n",
    "    -------\n",
    "    A networkx.DiGraph instance.\n",
    "    '''\n",
    "    \n",
    "    # YOUR CODE HERE\n",
    "    dg = nx.DiGraph()\n",
    "    for key in ids2ids:\n",
    "        dg.add_node(key)\n",
    "        if not key == start_node:  # exclude edge to itself\n",
    "            dg.add_edge(start_node, key)\n",
    "    \n",
    "    for friend in ids2ids[start_node]:\n",
    "        for fof in ids2ids[friend]:\n",
    "            if fof in ids2ids:\n",
    "                dg.add_edge(friend, fof)\n",
    "\n",
    "    return dg"
   ]
  },
  {
   "cell_type": "code",
   "execution_count": 31,
   "metadata": {
    "collapsed": true,
    "deletable": false,
    "nbgrader": {
     "checksum": "8915335a98202e4ec720cddf6d1d4cd7",
     "grade": false,
     "grade_id": "create_digraph_run",
     "locked": true,
     "solution": false
    }
   },
   "outputs": [],
   "source": [
    "dg = create_digraph(ids2ids)"
   ]
  },
  {
   "cell_type": "code",
   "execution_count": 32,
   "metadata": {
    "collapsed": false,
    "deletable": false,
    "nbgrader": {
     "checksum": "4dcbd014551c282d6f631eb13e3dd5af",
     "grade": true,
     "grade_id": "create_digraph_test",
     "locked": true,
     "points": 10,
     "solution": false
    }
   },
   "outputs": [],
   "source": [
    "assert_is_instance(dg, nx.DiGraph)\n",
    "assert_equal(len(dg.nodes()), len(ids2ids))\n",
    "assert_equal(set(dg.nodes()), set(ids2ids.keys()))\n",
    "assert_equal(len(dg.edges()), 3648)\n",
    "for start, end in dg.edges():\n",
    "    assert_true(start in ids2ids)\n",
    "    assert_true(end in ids2ids)"
   ]
  },
  {
   "cell_type": "markdown",
   "metadata": {
    "deletable": false,
    "nbgrader": {
     "checksum": "9796b7545fbe9e8c043d86fa9abe72dd",
     "grade": false,
     "grade_id": "markdown_8",
     "locked": true,
     "solution": false
    }
   },
   "source": [
    "## Draw\n",
    "\n",
    "- First, use `networkx.draw_networkx_nodes()` to draw the nodes.\n",
    "- Then, use `networkx.draw_networkx_edges()` to draw the edges.\n",
    "- Do not draw the labels (because we only have IDs and labels will only clutter the graph).\n",
    "\n",
    "![](https://raw.githubusercontent.com/UI-DataScience/info490-sp16/master/Week10/assignments/images/kevin_bacon.png)\n",
    "\n",
    "Note that I chose not to draw the arrows here to avoid cluttering our graph."
   ]
  },
  {
   "cell_type": "code",
   "execution_count": 41,
   "metadata": {
    "collapsed": false,
    "deletable": false,
    "nbgrader": {
     "checksum": "7a8d0f701077c5bc7609caa8ae84c78a",
     "grade": false,
     "grade_id": "draw_social_graph_answer",
     "locked": false,
     "solution": true
    }
   },
   "outputs": [],
   "source": [
    "def draw_social_graph(graph):\n",
    "    '''\n",
    "    Draws the \"graph\".\n",
    "    \n",
    "    Paramters\n",
    "    ---------\n",
    "    graph: A networkx.DiGraph instance.\n",
    "    \n",
    "    Returns\n",
    "    -------\n",
    "    A matplotlib.Axes instance.\n",
    "    '''\n",
    "    \n",
    "    # YOUR CODE HERE\n",
    "    fig, ax = plt.subplots()\n",
    "    nx.draw_networkx(graph, pos = nx.spring_layout(graph), ax=ax, with_labels=False)\n",
    "    \n",
    "    return ax"
   ]
  },
  {
   "cell_type": "code",
   "execution_count": 42,
   "metadata": {
    "collapsed": false,
    "deletable": false,
    "nbgrader": {
     "checksum": "20de607c6cfdd767d44e798e53fe6d20",
     "grade": false,
     "grade_id": "draw_social_graph_run",
     "locked": true,
     "solution": false
    }
   },
   "outputs": [
    {
     "data": {
      "image/png": "[encoded data removed]",
      "text/plain": [
       "<matplotlib.figure.Figure at 0x7fac39002be0>"
      ]
     },
     "metadata": {},
     "output_type": "display_data"
    }
   ],
   "source": [
    "ax = draw_social_graph(dg)"
   ]
  },
  {
   "cell_type": "code",
   "execution_count": 43,
   "metadata": {
    "collapsed": false,
    "deletable": false,
    "nbgrader": {
     "checksum": "2a5f4d3dc518b9cdf140476d2ee67741",
     "grade": true,
     "grade_id": "draw_social_graph_test",
     "locked": true,
     "points": 10,
     "solution": false
    }
   },
   "outputs": [],
   "source": [
    "assert_is_instance(ax, mpl.axes.Axes)\n",
    "assert_equal(ax.collections[0].get_offsets().shape[0], len(dg.nodes()))\n",
    "assert_equal(len(ax.collections[1].get_segments()), len(dg.edges()))"
   ]
  },
  {
   "cell_type": "code",
   "execution_count": null,
   "metadata": {
    "collapsed": true
   },
   "outputs": [],
   "source": []
  }
 ],
 "metadata": {
  "kernelspec": {
   "display_name": "Python 3",
   "language": "python",
   "name": "python3"
  },
  "language_info": {
   "codemirror_mode": {
    "name": "ipython",
    "version": 3
   },
   "file_extension": ".py",
   "mimetype": "text/x-python",
   "name": "python",
   "nbconvert_exporter": "python",
   "pygments_lexer": "ipython3",
   "version": "3.5.1"
  }
 },
 "nbformat": 4,
 "nbformat_minor": 0
}
