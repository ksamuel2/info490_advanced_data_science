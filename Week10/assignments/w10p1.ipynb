{
 "cells": [
  {
   "cell_type": "markdown",
   "metadata": {
    "deletable": false,
    "nbgrader": {
     "checksum": "bdf34c08fcd3b0fa3425ae7552aaad70",
     "grade": false,
     "grade_id": "header",
     "locked": true,
     "solution": false
    }
   },
   "source": [
    "This notebook will be collected automatically at **6pm on Monday** from `/home/data_scientist/assignments/Week10` directory on the course JupyterHub server. If you work on this assignment on the course Jupyterhub server, just make sure that you save your work and instructors will pull your notebooks automatically after the deadline. If you work on this assignment locally, the only way to submit assignments is via Jupyterhub, and you have to place the notebook file in the correct directory with the correct file name before the deadline.\n",
    "\n",
    "1. Make sure everything runs as expected. First, restart the kernel (in the menubar, select `Kernel` → `Restart`) and then run all cells (in the menubar, select `Cell` → `Run All`).\n",
    "2. Make sure you fill in any place that says `YOUR CODE HERE`. Do not write your answer in anywhere else other than where it says `YOUR CODE HERE`. Anything you write anywhere else will be removed by the autograder.\n",
    "3. Do not change the file path or the file name of this notebook.\n",
    "4. Make sure that you save your work (in the menubar, select `File` → `Save and CheckPoint`)"
   ]
  },
  {
   "cell_type": "markdown",
   "metadata": {
    "deletable": false,
    "nbgrader": {
     "checksum": "32e1152d47004526d26f7d385f3a8360",
     "grade": false,
     "grade_id": "title",
     "locked": true,
     "solution": false
    }
   },
   "source": [
    "# Problem 10.1. Graph Concepts.\n",
    "\n"
   ]
  },
  {
   "cell_type": "code",
   "execution_count": 2,
   "metadata": {
    "collapsed": true,
    "deletable": false,
    "nbgrader": {
     "checksum": "0c26e4038d133009ed6850d9029f2751",
     "grade": false,
     "grade_id": "import",
     "locked": true,
     "solution": false
    }
   },
   "outputs": [],
   "source": [
    "%matplotlib inline\n",
    "import networkx as nx\n",
    "import numpy as np\n",
    "import matplotlib as mpl\n",
    "import matplotlib.pyplot as plt\n",
    "import seaborn as sns\n",
    "\n",
    "from nose.tools import assert_equal, assert_is_instance, assert_true\n",
    "from numpy.testing import assert_array_equal, assert_array_almost_equal"
   ]
  },
  {
   "cell_type": "markdown",
   "metadata": {
    "deletable": false,
    "nbgrader": {
     "checksum": "c6ab64d3a801c9e6d4b959c3cbe50a61",
     "grade": false,
     "grade_id": "markdown_1",
     "locked": true,
     "solution": false
    }
   },
   "source": [
    "## Directed graph\n",
    "\n",
    "- Make a directed graph with 20 integer nodes, and edges connecting every even integer node to the next odd integer node. Start from zero (Zero is an even number).\n",
    "\n",
    "![](https://raw.githubusercontent.com/UI-DataScience/info490-sp16/master/Week10/assignments/images/digraph.png)"
   ]
  },
  {
   "cell_type": "code",
   "execution_count": 3,
   "metadata": {
    "collapsed": false,
    "deletable": false,
    "nbgrader": {
     "checksum": "a5823adf936592de0216c0519df63054",
     "grade": false,
     "grade_id": "get_circular_dg_answer",
     "locked": false,
     "solution": true
    }
   },
   "outputs": [],
   "source": [
    "def get_circular_dg():\n",
    "    '''\n",
    "    Creates a directed graph with 20 integer nodes.\n",
    "    Every even interger node is connected to the next odd integer node.\n",
    "    \n",
    "    Paramters\n",
    "    ---------\n",
    "    None\n",
    "    \n",
    "    Returns\n",
    "    -------\n",
    "    A networkx.Digraph instance.\n",
    "    '''\n",
    "    \n",
    "    # YOUR CODE HERE\n",
    "    dg = nx.DiGraph() \n",
    "    dg.add_nodes_from(range(20))\n",
    "    for item in range(10):\n",
    "        dg.add_edge(2 * item, 2 * item + 1)\n",
    "    \n",
    "    return dg"
   ]
  },
  {
   "cell_type": "code",
   "execution_count": 4,
   "metadata": {
    "collapsed": false,
    "deletable": false,
    "nbgrader": {
     "checksum": "262a36d1f5212c97016f516b49ec6f0c",
     "grade": false,
     "grade_id": "get_circular_dg_run",
     "locked": true,
     "solution": false
    }
   },
   "outputs": [],
   "source": [
    "dg = get_circular_dg()"
   ]
  },
  {
   "cell_type": "code",
   "execution_count": 5,
   "metadata": {
    "collapsed": false,
    "deletable": false,
    "nbgrader": {
     "checksum": "9e9b8cc4fd2f59f2541a6161d874764a",
     "grade": true,
     "grade_id": "get_circular_dg_test",
     "locked": true,
     "points": 5,
     "solution": false
    }
   },
   "outputs": [],
   "source": [
    "assert_is_instance(dg, nx.DiGraph)\n",
    "\n",
    "nodes = np.array(dg.nodes())\n",
    "assert_equal(nodes.size, 20)\n",
    "assert_equal(nodes.min(), 0)\n",
    "assert_equal(nodes.max(), 19)\n",
    "assert_true(np.all(np.diff(nodes) == 1))\n",
    "\n",
    "edges = np.array(dg.edges())\n",
    "assert_equal(edges.shape[0], 10)\n",
    "assert_equal(edges.shape[1], 2)\n",
    "assert_equal(edges[:, 0].min(), 0)\n",
    "assert_equal(edges[:, 0].max(), 18)\n",
    "assert_true(np.all(np.diff(edges[:, 0]) == 2))\n",
    "assert_equal(edges[:, 1].min(), 1)\n",
    "assert_equal(edges[:, 1].max(), 19)\n",
    "assert_true(np.all(np.diff(edges[:, 1]) == 2))"
   ]
  },
  {
   "cell_type": "markdown",
   "metadata": {
    "deletable": false,
    "nbgrader": {
     "checksum": "9a6d988b6364e5970eff2e3de49e1750",
     "grade": false,
     "grade_id": "markdown_2",
     "locked": true,
     "solution": false
    }
   },
   "source": [
    "- Draw the directed graph created with `get_circular_dg()`. Note that our function returns a Matplotlib axes instance. You should probably use the `ax` parameter in [NetworkX's drawing function](https://networkx.github.io/documentation/latest/reference/drawing.html)."
   ]
  },
  {
   "cell_type": "code",
   "execution_count": 29,
   "metadata": {
    "collapsed": false,
    "deletable": false,
    "nbgrader": {
     "checksum": "7401a16fc267d126cc8d94f65eb07e95",
     "grade": false,
     "grade_id": "draw_circular_dg_answer",
     "locked": false,
     "solution": true
    }
   },
   "outputs": [],
   "source": [
    "def draw_circular_dg(dg):\n",
    "    '''\n",
    "    Draws a directed graph.\n",
    "    \n",
    "    Paramters\n",
    "    ---------\n",
    "    dg: A networkx.DiGraph instance.\n",
    "    \n",
    "    Returns\n",
    "    -------\n",
    "    A matplotlib.Axes instance.\n",
    "    '''\n",
    "    \n",
    "    # YOUR CODE HERE\n",
    "    fig, ax = plt.subplots()\n",
    "    nx.draw_circular(dg, ax=ax, with_labels=True)\n",
    "    \n",
    "    return ax"
   ]
  },
  {
   "cell_type": "code",
   "execution_count": 30,
   "metadata": {
    "collapsed": false,
    "deletable": false,
    "nbgrader": {
     "checksum": "27a592f9bc0d5cef5e2ae7aa858d22c2",
     "grade": false,
     "grade_id": "draw_circular_dg_run",
     "locked": true,
     "solution": false
    }
   },
   "outputs": [
    {
     "data": {
      "image/png": "[encoded data removed]",
      "text/plain": [
       "<matplotlib.figure.Figure at 0x7f2b0854dac8>"
      ]
     },
     "metadata": {},
     "output_type": "display_data"
    }
   ],
   "source": [
    "ax1 = draw_circular_dg(dg)\n",
    "plt.show()"
   ]
  },
  {
   "cell_type": "code",
   "execution_count": 31,
   "metadata": {
    "collapsed": false,
    "deletable": false,
    "nbgrader": {
     "checksum": "c7691ca58662df4782927977ba00df30",
     "grade": true,
     "grade_id": "draw_circular_dg_test",
     "locked": true,
     "points": 5,
     "solution": false
    }
   },
   "outputs": [],
   "source": [
    "pos = np.array(list(nx.circular_layout(dg).values()))\n",
    "assert_is_instance(ax1, mpl.axes.Axes)\n",
    "assert_array_almost_equal(ax1.collections[0].get_offsets(), pos)\n",
    "for idx, seg in enumerate(ax1.collections[1].get_segments()):\n",
    "    line = np.vstack((pos[idx * 2], pos[idx * 2 + 1]))\n",
    "    assert_array_almost_equal(seg, line)\n",
    "assert_equal(len(ax1.collections[2].get_segments()), 10)"
   ]
  },
  {
   "cell_type": "markdown",
   "metadata": {
    "deletable": false,
    "nbgrader": {
     "checksum": "e5bdbd52810c9da8d143a5603994a419",
     "grade": false,
     "grade_id": "markdown_3",
     "locked": true,
     "solution": false
    }
   },
   "source": [
    "## Multigraph\n",
    "\n",
    "- Create an undirected multigraph with five nodes.\n",
    "\n",
    "![](https://raw.githubusercontent.com/UI-DataScience/info490-sp16/master/Week10/assignments/images/multigraph_nodes.png)"
   ]
  },
  {
   "cell_type": "code",
   "execution_count": 35,
   "metadata": {
    "collapsed": true,
    "deletable": false,
    "nbgrader": {
     "checksum": "68efb734b529533bd08ffa1955d1729e",
     "grade": false,
     "grade_id": "get_multigraph_answer",
     "locked": false,
     "solution": true
    }
   },
   "outputs": [],
   "source": [
    "def get_multigraph():\n",
    "    '''\n",
    "    Creates an undirected multigraph with five nodes.\n",
    "    \n",
    "    Paramters\n",
    "    ---------\n",
    "    None\n",
    "    \n",
    "    Returns\n",
    "    -------\n",
    "    A networkx.MultiGraph instance.\n",
    "    '''\n",
    "    \n",
    "    # YOUR CODE HERE\n",
    "    mg = nx.MultiGraph()\n",
    "    mg.add_nodes_from(range(5))\n",
    "    \n",
    "    return mg"
   ]
  },
  {
   "cell_type": "code",
   "execution_count": 36,
   "metadata": {
    "collapsed": true,
    "deletable": false,
    "nbgrader": {
     "checksum": "7f7ba48fbe5491ab59e1b40922ad54e3",
     "grade": false,
     "grade_id": "get_multigraph_run",
     "locked": true,
     "solution": false
    }
   },
   "outputs": [],
   "source": [
    "mg0 = get_multigraph()"
   ]
  },
  {
   "cell_type": "code",
   "execution_count": 37,
   "metadata": {
    "collapsed": false,
    "deletable": false,
    "nbgrader": {
     "checksum": "ffde719b7c28a7f19900bf29ebb494f5",
     "grade": true,
     "grade_id": "get_multigraph_test",
     "locked": true,
     "points": 5,
     "solution": false
    }
   },
   "outputs": [],
   "source": [
    "assert_is_instance(mg0, nx.MultiGraph)\n",
    "\n",
    "nodes = np.array(mg0.nodes())\n",
    "assert_equal(nodes.size, 5)\n",
    "assert_equal(nodes.min(), 0)\n",
    "assert_equal(nodes.max(), 4)\n",
    "assert_true(np.all(np.diff(nodes) == 1))\n",
    "\n",
    "assert_equal(len(mg0.edges()), 0)"
   ]
  },
  {
   "cell_type": "markdown",
   "metadata": {
    "deletable": false,
    "nbgrader": {
     "checksum": "acd0971046e05aec07b3c0f6b7ee9526",
     "grade": false,
     "grade_id": "markdown_4",
     "locked": true,
     "solution": false
    }
   },
   "source": [
    "- Draw the multigraph in circular format. Don't forget to use the `ax` parameter in NetworkX's drawing function."
   ]
  },
  {
   "cell_type": "code",
   "execution_count": 38,
   "metadata": {
    "collapsed": false,
    "deletable": false,
    "nbgrader": {
     "checksum": "5a6b8274c20c16701259ad0bfc486879",
     "grade": false,
     "grade_id": "draw_multigraph_answer",
     "locked": false,
     "solution": true
    }
   },
   "outputs": [],
   "source": [
    "def draw_multigraph(mg):\n",
    "    '''\n",
    "    Draws a multigraph in circular format.\n",
    "    \n",
    "    Paramters\n",
    "    ---------\n",
    "    mg: A networkx.MultiGraph instance.\n",
    "    \n",
    "    Returns\n",
    "    -------\n",
    "    A matplotlib.Axes instance.\n",
    "    '''\n",
    "    \n",
    "    # YOUR CODE HERE\n",
    "    fig, ax = plt.subplots()\n",
    "    nx.draw_circular(mg, ax=ax, with_labels=True)\n",
    "    \n",
    "    \n",
    "    return ax"
   ]
  },
  {
   "cell_type": "code",
   "execution_count": 39,
   "metadata": {
    "collapsed": false,
    "deletable": false,
    "nbgrader": {
     "checksum": "c9c334c58c8f54405bbfbe77bc783687",
     "grade": false,
     "grade_id": "draw_multigraph_run_1",
     "locked": true,
     "solution": false
    }
   },
   "outputs": [
    {
     "data": {
      "image/png": "[encoded data removed]",
      "text/plain": [
       "<matplotlib.figure.Figure at 0x7f2b07f154a8>"
      ]
     },
     "metadata": {},
     "output_type": "display_data"
    }
   ],
   "source": [
    "ax2 = draw_multigraph(mg0)\n",
    "plt.show()"
   ]
  },
  {
   "cell_type": "code",
   "execution_count": 40,
   "metadata": {
    "collapsed": false,
    "deletable": false,
    "nbgrader": {
     "checksum": "0e2a798090ee114f1c580c4581a7bdf7",
     "grade": true,
     "grade_id": "draw_multigraph_test_1",
     "locked": true,
     "points": 5,
     "solution": false
    }
   },
   "outputs": [],
   "source": [
    "pos = np.array(list(nx.circular_layout(mg0).values()))\n",
    "assert_is_instance(ax2, mpl.axes.Axes)\n",
    "assert_equal(len(ax2.collections), 1)\n",
    "assert_equal(len(ax2.collections[0].get_offsets()), len(mg0.nodes()))"
   ]
  },
  {
   "cell_type": "markdown",
   "metadata": {
    "deletable": false,
    "nbgrader": {
     "checksum": "d59a78e7c26e451e4371f129f18c4641",
     "grade": false,
     "grade_id": "markdown_5",
     "locked": true,
     "solution": false
    }
   },
   "source": [
    "## Add edges\n",
    "\n",
    "- Add new edges between all even integer nodes (0, 2, 4) and between all odd integer nodes (1, 3). \n",
    "\n",
    "![](https://raw.githubusercontent.com/UI-DataScience/info490-sp16/master/Week10/assignments/images/multigraph_all.png)"
   ]
  },
  {
   "cell_type": "code",
   "execution_count": 41,
   "metadata": {
    "collapsed": true,
    "deletable": false,
    "nbgrader": {
     "checksum": "c3f7c33514be7e8ca49fed60fb37a29e",
     "grade": false,
     "grade_id": "add_edges_answer",
     "locked": false,
     "solution": true
    }
   },
   "outputs": [],
   "source": [
    "def add_edges(mg):\n",
    "    '''\n",
    "    Adds new edges between all even integer nodes (0, 2, 4)\n",
    "    and between all odd integer nodes (1, 3).\n",
    "    \n",
    "    Paramters\n",
    "    ---------\n",
    "    mg: A networkx.MultiGraph instance.\n",
    "    \n",
    "    Returns\n",
    "    -------\n",
    "    A matplotlib.Axes instance.\n",
    "    '''\n",
    "    \n",
    "    # YOUR CODE HERE\n",
    "    edge_list = [(0,2), (2,4), (0,4), (1,3)]\n",
    "    for item in edge_list:\n",
    "        mg.add_edge(*item)\n",
    "    \n",
    "    return mg"
   ]
  },
  {
   "cell_type": "code",
   "execution_count": 42,
   "metadata": {
    "collapsed": true,
    "deletable": false,
    "nbgrader": {
     "checksum": "432dfaf59e6df62b3506f8b8fcbd75c6",
     "grade": false,
     "grade_id": "add_edges_run",
     "locked": true,
     "solution": false
    }
   },
   "outputs": [],
   "source": [
    "mg1 = add_edges(mg0)"
   ]
  },
  {
   "cell_type": "code",
   "execution_count": 43,
   "metadata": {
    "collapsed": false,
    "deletable": false,
    "nbgrader": {
     "checksum": "d05092484dd584597dba85b39eac472a",
     "grade": true,
     "grade_id": "add_edges_test",
     "locked": true,
     "points": 5,
     "solution": false
    }
   },
   "outputs": [],
   "source": [
    "assert_is_instance(mg1, nx.MultiGraph)\n",
    "\n",
    "nodes = np.array(mg1.nodes())\n",
    "assert_array_equal(mg1.nodes(), mg0.nodes())\n",
    "\n",
    "edges = np.array(mg1.edges())\n",
    "assert_equal(edges.shape[0], 4)\n",
    "assert_equal(edges.shape[1], 2)\n",
    "assert_true(np.all((edges[:, 1] - edges[:, 0]) % 2 == 0))"
   ]
  },
  {
   "cell_type": "markdown",
   "metadata": {},
   "source": [
    "In the following code cell, we reuse `draw_multigraph()` from earlier to draw the new multigraph."
   ]
  },
  {
   "cell_type": "code",
   "execution_count": 44,
   "metadata": {
    "collapsed": false,
    "deletable": false,
    "nbgrader": {
     "checksum": "6d1b769b8381104ee9866684d25a8a16",
     "grade": false,
     "grade_id": "draw_multigraph_run_2",
     "locked": true,
     "solution": false
    }
   },
   "outputs": [
    {
     "data": {
      "image/png": "[encoded data removed]",
      "text/plain": [
       "<matplotlib.figure.Figure at 0x7f2b07da7240>"
      ]
     },
     "metadata": {},
     "output_type": "display_data"
    }
   ],
   "source": [
    "ax3 = draw_multigraph(mg1)\n",
    "plt.show()"
   ]
  },
  {
   "cell_type": "code",
   "execution_count": 45,
   "metadata": {
    "collapsed": false,
    "deletable": false,
    "nbgrader": {
     "checksum": "4f02fc9aca37d2a428d80f284a9b8677",
     "grade": true,
     "grade_id": "draw_multigraph_test_2",
     "locked": true,
     "points": 5,
     "solution": false
    }
   },
   "outputs": [],
   "source": [
    "pos = np.array(list(nx.circular_layout(mg1).values()))\n",
    "assert_is_instance(ax3, mpl.axes.Axes)\n",
    "assert_equal(len(ax3.collections), 2) # 1 for nodes, 1 for edges\n",
    "assert_array_almost_equal(ax3.collections[0].get_offsets(), pos)\n",
    "assert_equal(len(ax3.collections[1].get_segments()), len(mg1.edges()))"
   ]
  },
  {
   "cell_type": "code",
   "execution_count": null,
   "metadata": {
    "collapsed": true
   },
   "outputs": [],
   "source": []
  }
 ],
 "metadata": {
  "kernelspec": {
   "display_name": "Python 3",
   "language": "python",
   "name": "python3"
  },
  "language_info": {
   "codemirror_mode": {
    "name": "ipython",
    "version": 3
   },
   "file_extension": ".py",
   "mimetype": "text/x-python",
   "name": "python",
   "nbconvert_exporter": "python",
   "pygments_lexer": "ipython3",
   "version": "3.5.1"
  }
 },
 "nbformat": 4,
 "nbformat_minor": 0
}
